{
 "cells": [
  {
   "cell_type": "raw",
   "metadata": {
    "id": "AYZebfKn8gef"
   },
   "source": []
  },
  {
   "cell_type": "code",
   "execution_count": 1,
   "metadata": {
    "id": "iYDU3ftml2k5"
   },
   "outputs": [],
   "source": [
    "# Reference: https://github.com/dauparas/ProteinMPNN\n",
    "# Clone github repo if needed\n",
    "import json, time, os, sys, glob\n",
    "\n",
    "if not os.path.isdir(\"ProteinMPNN\"):\n",
    "  os.system(\"git clone -q https://github.com/dauparas/ProteinMPNN.git\")\n",
    "sys.path.append('ProteinMPNN/')\n",
    "\n",
    "# print(os.listdir(\"ProteinMPNN\"))"
   ]
  },
  {
   "cell_type": "code",
   "execution_count": 10,
   "metadata": {
    "colab": {
     "base_uri": "https://localhost:8080/"
    },
    "id": "2nKSlaMlSpcf",
    "outputId": "293c6f08-8256-4e08-d8ab-3c2a02ab74b8"
   },
   "outputs": [
    {
     "name": "stdout",
     "output_type": "stream",
     "text": [
      "Number of edges: 48\n",
      "Training noise level: 0.3A\n",
      "Model loaded\n"
     ]
    }
   ],
   "source": [
    "# Set up the modelling environment\n",
    "import re\n",
    "import matplotlib.pyplot as plt\n",
    "import shutil\n",
    "import warnings\n",
    "import numpy as np\n",
    "import torch\n",
    "from torch import optim\n",
    "from torch.utils.data import DataLoader\n",
    "from torch.utils.data.dataset import random_split, Subset\n",
    "import copy\n",
    "import torch.nn as nn\n",
    "import torch.nn.functional as F\n",
    "import random\n",
    "import os.path\n",
    "from protein_mpnn_utils import loss_nll, loss_smoothed, gather_edges, gather_nodes, gather_nodes_t, cat_neighbors_nodes, _scores, _S_to_seq, tied_featurize, parse_PDB\n",
    "from protein_mpnn_utils import StructureDataset, StructureDatasetPDB, ProteinMPNN\n",
    "\n",
    "device = torch.device(\"cuda:0\" if (torch.cuda.is_available()) else \"cpu\")\n",
    "model_name = \"v_48_030\" \n",
    "\n",
    "\n",
    "backbone_noise=0.00              \n",
    "\n",
    "path_to_model_weights='ProteinMPNN/vanilla_model_weights'\n",
    "hidden_dim = 128\n",
    "num_layers = 3\n",
    "model_folder_path = path_to_model_weights\n",
    "if model_folder_path[-1] != '/':\n",
    "    model_folder_path = model_folder_path + '/'\n",
    "checkpoint_path = model_folder_path + f'{model_name}.pt'\n",
    "\n",
    "checkpoint = torch.load(checkpoint_path, map_location=device)\n",
    "print('Number of edges:', checkpoint['num_edges'])\n",
    "noise_level_print = checkpoint['noise_level']\n",
    "print(f'Training noise level: {noise_level_print}A')\n",
    "model = ProteinMPNN(num_letters=21, node_features=hidden_dim, edge_features=hidden_dim, hidden_dim=hidden_dim, num_encoder_layers=num_layers, num_decoder_layers=num_layers, augment_eps=backbone_noise, k_neighbors=checkpoint['num_edges'])\n",
    "model.to(device)\n",
    "model.load_state_dict(checkpoint['model_state_dict'])\n",
    "model.eval()\n",
    "print(\"Model loaded\")"
   ]
  },
  {
   "cell_type": "code",
   "execution_count": 2,
   "metadata": {
    "id": "yjnUkQuZX-de"
   },
   "outputs": [],
   "source": [
    "# Introduce a helper function \n",
    "def make_tied_positions_for_homomers(pdb_dict_list):\n",
    "    my_dict = {}\n",
    "    for result in pdb_dict_list:\n",
    "        all_chain_list = sorted([item[-1:] for item in list(result) if item[:9]=='seq_chain']) #A, B, C, ...\n",
    "        tied_positions_list = []\n",
    "        chain_length = len(result[f\"seq_chain_{all_chain_list[0]}\"])\n",
    "        for i in range(1,chain_length+1):\n",
    "            temp_dict = {}\n",
    "            for j, chain in enumerate(all_chain_list):\n",
    "                temp_dict[chain] = [i] #needs to be a list\n",
    "            tied_positions_list.append(temp_dict)\n",
    "        my_dict[result['name']] = tied_positions_list\n",
    "    return my_dict"
   ]
  },
  {
   "cell_type": "code",
   "execution_count": 8,
   "metadata": {
    "id": "bgRXscTaYuqM"
   },
   "outputs": [
    {
     "data": {
      "application/3dmoljs_load.v0": "<div id=\"3dmolviewer_1737459444160485\"  style=\"position: relative; width: 600px; height: 400px;\">\n        <p id=\"3dmolwarning_1737459444160485\" style=\"background-color:#ffcccc;color:black\">3Dmol.js failed to load for some reason.  Please check your browser console for error messages.<br></p>\n        </div>\n<script>\n\nvar loadScriptAsync = function(uri){\n  return new Promise((resolve, reject) => {\n    //this is to ignore the existence of requirejs amd\n    var savedexports, savedmodule;\n    if (typeof exports !== 'undefined') savedexports = exports;\n    else exports = {}\n    if (typeof module !== 'undefined') savedmodule = module;\n    else module = {}\n\n    var tag = document.createElement('script');\n    tag.src = uri;\n    tag.async = true;\n    tag.onload = () => {\n        exports = savedexports;\n        module = savedmodule;\n        resolve();\n    };\n  var firstScriptTag = document.getElementsByTagName('script')[0];\n  firstScriptTag.parentNode.insertBefore(tag, firstScriptTag);\n});\n};\n\nif(typeof $3Dmolpromise === 'undefined') {\n$3Dmolpromise = null;\n  $3Dmolpromise = loadScriptAsync('https://cdnjs.cloudflare.com/ajax/libs/3Dmol/2.4.2/3Dmol-min.js');\n}\n\nvar viewer_1737459444160485 = null;\nvar warn = document.getElementById(\"3dmolwarning_1737459444160485\");\nif(warn) {\n    warn.parentNode.removeChild(warn);\n}\n$3Dmolpromise.then(function() {\nviewer_1737459444160485 = $3Dmol.createViewer(document.getElementById(\"3dmolviewer_1737459444160485\"),{backgroundColor:\"white\"});\nviewer_1737459444160485.zoomTo();\n\tviewer_1737459444160485.addModel(\"SEQRES   1 A   10  VAL LEU TYR ARG TYR GLY SER PHE SER VAL\\nHELIX    1   1 LEU A    2  ARG A    4  1                                   3\\nATOM      1  N   VAL A   1       4.873   4.434  -2.863  1.00 87.02           N\\nATOM      2  CA  VAL A   1       5.082   4.230  -1.423  1.00 89.50           C\\nATOM      3  C   VAL A   1       4.516   2.902  -0.918  1.00 90.54           C\\nATOM      4  O   VAL A   1       4.762   2.509   0.213  1.00 88.94           O\\nATOM      5  CB  VAL A   1       4.484   5.385  -0.606  1.00 85.80           C\\nATOM      6  CG1 VAL A   1       5.465   6.547  -0.547  1.00 81.59           C\\nATOM      7  CG2 VAL A   1       3.170   5.849  -1.206  1.00 82.82           C\\nATOM      8  N   LEU A   2       3.776   2.225  -1.777  1.00 88.19           N\\nATOM      9  CA  LEU A   2       3.232   0.901  -1.437  1.00 89.25           C\\nATOM     10  C   LEU A   2       2.298   0.956  -0.223  1.00 90.99           C\\nATOM     11  O   LEU A   2       1.283   1.656  -0.259  1.00 89.89           O\\nATOM     12  CB  LEU A   2       4.410  -0.063  -1.219  1.00 86.64           C\\nATOM     13  CG  LEU A   2       4.044  -1.528  -0.977  1.00 83.04           C\\nATOM     14  CD1 LEU A   2       3.263  -2.102  -2.139  1.00 81.04           C\\nATOM     15  CD2 LEU A   2       5.314  -2.337  -0.733  1.00 79.04           C\\nATOM     16  N   TYR A   3       2.624   0.219   0.843  1.00 92.06           N\\nATOM     17  CA  TYR A   3       1.859   0.180   2.091  1.00 92.31           C\\nATOM     18  C   TYR A   3       1.832   1.523   2.805  1.00 93.26           C\\nATOM     19  O   TYR A   3       1.041   1.727   3.720  1.00 91.44           O\\nATOM     20  CB  TYR A   3       2.449  -0.869   3.029  1.00 91.02           C\\nATOM     21  CG  TYR A   3       3.941  -1.074   2.844  1.00 88.83           C\\nATOM     22  CD1 TYR A   3       4.854  -0.108   3.232  1.00 87.67           C\\nATOM     23  CD2 TYR A   3       4.414  -2.248   2.258  1.00 87.66           C\\nATOM     24  CE1 TYR A   3       6.214  -0.301   3.029  1.00 86.08           C\\nATOM     25  CE2 TYR A   3       5.772  -2.435   2.065  1.00 84.99           C\\nATOM     26  CZ  TYR A   3       6.672  -1.468   2.449  1.00 85.99           C\\nATOM     27  OH  TYR A   3       8.016  -1.648   2.255  1.00 83.55           O\\nATOM     28  N   ARG A   4       2.672   2.423   2.382  1.00 91.99           N\\nATOM     29  CA  ARG A   4       2.780   3.739   2.999  1.00 92.45           C\\nATOM     30  C   ARG A   4       1.536   4.582   2.750  1.00 91.69           C\\nATOM     31  O   ARG A   4       1.063   5.282   3.647  1.00 89.86           O\\nATOM     32  CB  ARG A   4       4.028   4.447   2.482  1.00 90.74           C\\nATOM     33  CG  ARG A   4       4.584   5.505   3.441  1.00 87.03           C\\nATOM     34  CD  ARG A   4       3.730   6.752   3.474  1.00 87.11           C\\nATOM     35  NE  ARG A   4       4.352   7.831   4.247  1.00 84.02           N\\nATOM     36  CZ  ARG A   4       3.760   8.982   4.518  1.00 82.63           C\\nATOM     37  NH1 ARG A   4       2.522   9.213   4.102  1.00 78.45           N\\nATOM     38  NH2 ARG A   4       4.400   9.909   5.205  1.00 77.93           N\\nATOM     39  N   TYR A   5       0.975   4.514   1.546  1.00 91.88           N\\nATOM     40  CA  TYR A   5      -0.192   5.311   1.207  1.00 90.84           C\\nATOM     41  C   TYR A   5      -1.508   4.557   1.420  1.00 90.95           C\\nATOM     42  O   TYR A   5      -2.579   5.054   1.086  1.00 88.57           O\\nATOM     43  CB  TYR A   5      -0.084   5.841  -0.231  1.00 88.43           C\\nATOM     44  CG  TYR A   5      -0.443   4.846  -1.314  1.00 86.17           C\\nATOM     45  CD1 TYR A   5       0.420   3.826  -1.669  1.00 84.98           C\\nATOM     46  CD2 TYR A   5      -1.647   4.960  -1.996  1.00 84.73           C\\nATOM     47  CE1 TYR A   5       0.095   2.938  -2.677  1.00 83.99           C\\nATOM     48  CE2 TYR A   5      -1.979   4.076  -3.001  1.00 82.91           C\\nATOM     49  CZ  TYR A   5      -1.110   3.065  -3.341  1.00 83.56           C\\nATOM     50  OH  TYR A   5      -1.449   2.183  -4.338  1.00 81.11           O\\nATOM     51  N   GLY A   6      -1.424   3.366   1.979  1.00 90.46           N\\nATOM     52  CA  GLY A   6      -2.617   2.591   2.280  1.00 89.31           C\\nATOM     53  C   GLY A   6      -3.320   2.028   1.069  1.00 91.21           C\\nATOM     54  O   GLY A   6      -4.245   2.642   0.547  1.00 89.58           O\\nATOM     55  N   SER A   7      -2.898   0.852   0.633  1.00 91.21           N\\nATOM     56  CA  SER A   7      -3.519   0.167  -0.492  1.00 92.48           C\\nATOM     57  C   SER A   7      -3.089  -1.301  -0.566  1.00 93.35           C\\nATOM     58  O   SER A   7      -3.603  -2.069  -1.374  1.00 90.99           O\\nATOM     59  CB  SER A   7      -3.180   0.870  -1.805  1.00 88.87           C\\nATOM     60  OG  SER A   7      -3.974   0.374  -2.853  1.00 83.51           O\\nATOM     61  N   PHE A   8      -2.166  -1.690   0.276  1.00 89.37           N\\nATOM     62  CA  PHE A   8      -1.646  -3.049   0.326  1.00 89.62           C\\nATOM     63  C   PHE A   8      -1.700  -3.601   1.754  1.00 90.97           C\\nATOM     64  O   PHE A   8      -2.737  -3.488   2.413  1.00 88.73           O\\nATOM     65  CB  PHE A   8      -0.210  -3.075  -0.212  1.00 88.44           C\\nATOM     66  CG  PHE A   8      -0.103  -2.637  -1.649  1.00 86.94           C\\nATOM     67  CD1 PHE A   8      -0.291  -3.545  -2.680  1.00 84.73           C\\nATOM     68  CD2 PHE A   8       0.185  -1.319  -1.963  1.00 85.75           C\\nATOM     69  CE1 PHE A   8      -0.193  -3.137  -4.004  1.00 85.30           C\\nATOM     70  CE2 PHE A   8       0.278  -0.907  -3.287  1.00 83.85           C\\nATOM     71  CZ  PHE A   8       0.089  -1.818  -4.305  1.00 84.00           C\\nATOM     72  N   SER A   9      -0.633  -4.184   2.208  1.00 91.35           N\\nATOM     73  CA  SER A   9      -0.571  -4.745   3.556  1.00 91.17           C\\nATOM     74  C   SER A   9      -0.357  -3.665   4.611  1.00 90.76           C\\nATOM     75  O   SER A   9       0.720  -3.549   5.200  1.00 88.59           O\\nATOM     76  CB  SER A   9       0.537  -5.787   3.641  1.00 88.13           C\\nATOM     77  OG  SER A   9       0.358  -6.771   2.648  1.00 84.32           O\\nATOM     78  N   VAL A  10      -1.427  -2.875   4.824  1.00 90.65           N\\nATOM     79  CA  VAL A  10      -1.376  -1.803   5.819  1.00 89.49           C\\nATOM     80  C   VAL A  10      -2.780  -1.577   6.394  1.00 87.01           C\\nATOM     81  O   VAL A  10      -3.537  -0.758   5.869  1.00 84.74           O\\nATOM     82  CB  VAL A  10      -0.802  -0.508   5.219  1.00 84.26           C\\nATOM     83  CG1 VAL A  10      -1.591  -0.060   3.995  1.00 80.07           C\\nATOM     84  CG2 VAL A  10      -0.729   0.586   6.265  1.00 83.17           C\\nATOM     85  OXT VAL A  10      -3.125  -2.210   7.387  1.00 82.92           O\\nTER      86      VAL A  10\\nEND\\n\",\"pdb\");\n\tviewer_1737459444160485.setStyle({\"cartoon\": {\"color\": \"spectrum\"}});\n\tviewer_1737459444160485.zoomTo();\nviewer_1737459444160485.render();\n});\n</script>",
      "text/html": [
       "<div id=\"3dmolviewer_1737459444160485\"  style=\"position: relative; width: 600px; height: 400px;\">\n",
       "        <p id=\"3dmolwarning_1737459444160485\" style=\"background-color:#ffcccc;color:black\">3Dmol.js failed to load for some reason.  Please check your browser console for error messages.<br></p>\n",
       "        </div>\n",
       "<script>\n",
       "\n",
       "var loadScriptAsync = function(uri){\n",
       "  return new Promise((resolve, reject) => {\n",
       "    //this is to ignore the existence of requirejs amd\n",
       "    var savedexports, savedmodule;\n",
       "    if (typeof exports !== 'undefined') savedexports = exports;\n",
       "    else exports = {}\n",
       "    if (typeof module !== 'undefined') savedmodule = module;\n",
       "    else module = {}\n",
       "\n",
       "    var tag = document.createElement('script');\n",
       "    tag.src = uri;\n",
       "    tag.async = true;\n",
       "    tag.onload = () => {\n",
       "        exports = savedexports;\n",
       "        module = savedmodule;\n",
       "        resolve();\n",
       "    };\n",
       "  var firstScriptTag = document.getElementsByTagName('script')[0];\n",
       "  firstScriptTag.parentNode.insertBefore(tag, firstScriptTag);\n",
       "});\n",
       "};\n",
       "\n",
       "if(typeof $3Dmolpromise === 'undefined') {\n",
       "$3Dmolpromise = null;\n",
       "  $3Dmolpromise = loadScriptAsync('https://cdnjs.cloudflare.com/ajax/libs/3Dmol/2.4.2/3Dmol-min.js');\n",
       "}\n",
       "\n",
       "var viewer_1737459444160485 = null;\n",
       "var warn = document.getElementById(\"3dmolwarning_1737459444160485\");\n",
       "if(warn) {\n",
       "    warn.parentNode.removeChild(warn);\n",
       "}\n",
       "$3Dmolpromise.then(function() {\n",
       "viewer_1737459444160485 = $3Dmol.createViewer(document.getElementById(\"3dmolviewer_1737459444160485\"),{backgroundColor:\"white\"});\n",
       "viewer_1737459444160485.zoomTo();\n",
       "\tviewer_1737459444160485.addModel(\"SEQRES   1 A   10  VAL LEU TYR ARG TYR GLY SER PHE SER VAL\\nHELIX    1   1 LEU A    2  ARG A    4  1                                   3\\nATOM      1  N   VAL A   1       4.873   4.434  -2.863  1.00 87.02           N\\nATOM      2  CA  VAL A   1       5.082   4.230  -1.423  1.00 89.50           C\\nATOM      3  C   VAL A   1       4.516   2.902  -0.918  1.00 90.54           C\\nATOM      4  O   VAL A   1       4.762   2.509   0.213  1.00 88.94           O\\nATOM      5  CB  VAL A   1       4.484   5.385  -0.606  1.00 85.80           C\\nATOM      6  CG1 VAL A   1       5.465   6.547  -0.547  1.00 81.59           C\\nATOM      7  CG2 VAL A   1       3.170   5.849  -1.206  1.00 82.82           C\\nATOM      8  N   LEU A   2       3.776   2.225  -1.777  1.00 88.19           N\\nATOM      9  CA  LEU A   2       3.232   0.901  -1.437  1.00 89.25           C\\nATOM     10  C   LEU A   2       2.298   0.956  -0.223  1.00 90.99           C\\nATOM     11  O   LEU A   2       1.283   1.656  -0.259  1.00 89.89           O\\nATOM     12  CB  LEU A   2       4.410  -0.063  -1.219  1.00 86.64           C\\nATOM     13  CG  LEU A   2       4.044  -1.528  -0.977  1.00 83.04           C\\nATOM     14  CD1 LEU A   2       3.263  -2.102  -2.139  1.00 81.04           C\\nATOM     15  CD2 LEU A   2       5.314  -2.337  -0.733  1.00 79.04           C\\nATOM     16  N   TYR A   3       2.624   0.219   0.843  1.00 92.06           N\\nATOM     17  CA  TYR A   3       1.859   0.180   2.091  1.00 92.31           C\\nATOM     18  C   TYR A   3       1.832   1.523   2.805  1.00 93.26           C\\nATOM     19  O   TYR A   3       1.041   1.727   3.720  1.00 91.44           O\\nATOM     20  CB  TYR A   3       2.449  -0.869   3.029  1.00 91.02           C\\nATOM     21  CG  TYR A   3       3.941  -1.074   2.844  1.00 88.83           C\\nATOM     22  CD1 TYR A   3       4.854  -0.108   3.232  1.00 87.67           C\\nATOM     23  CD2 TYR A   3       4.414  -2.248   2.258  1.00 87.66           C\\nATOM     24  CE1 TYR A   3       6.214  -0.301   3.029  1.00 86.08           C\\nATOM     25  CE2 TYR A   3       5.772  -2.435   2.065  1.00 84.99           C\\nATOM     26  CZ  TYR A   3       6.672  -1.468   2.449  1.00 85.99           C\\nATOM     27  OH  TYR A   3       8.016  -1.648   2.255  1.00 83.55           O\\nATOM     28  N   ARG A   4       2.672   2.423   2.382  1.00 91.99           N\\nATOM     29  CA  ARG A   4       2.780   3.739   2.999  1.00 92.45           C\\nATOM     30  C   ARG A   4       1.536   4.582   2.750  1.00 91.69           C\\nATOM     31  O   ARG A   4       1.063   5.282   3.647  1.00 89.86           O\\nATOM     32  CB  ARG A   4       4.028   4.447   2.482  1.00 90.74           C\\nATOM     33  CG  ARG A   4       4.584   5.505   3.441  1.00 87.03           C\\nATOM     34  CD  ARG A   4       3.730   6.752   3.474  1.00 87.11           C\\nATOM     35  NE  ARG A   4       4.352   7.831   4.247  1.00 84.02           N\\nATOM     36  CZ  ARG A   4       3.760   8.982   4.518  1.00 82.63           C\\nATOM     37  NH1 ARG A   4       2.522   9.213   4.102  1.00 78.45           N\\nATOM     38  NH2 ARG A   4       4.400   9.909   5.205  1.00 77.93           N\\nATOM     39  N   TYR A   5       0.975   4.514   1.546  1.00 91.88           N\\nATOM     40  CA  TYR A   5      -0.192   5.311   1.207  1.00 90.84           C\\nATOM     41  C   TYR A   5      -1.508   4.557   1.420  1.00 90.95           C\\nATOM     42  O   TYR A   5      -2.579   5.054   1.086  1.00 88.57           O\\nATOM     43  CB  TYR A   5      -0.084   5.841  -0.231  1.00 88.43           C\\nATOM     44  CG  TYR A   5      -0.443   4.846  -1.314  1.00 86.17           C\\nATOM     45  CD1 TYR A   5       0.420   3.826  -1.669  1.00 84.98           C\\nATOM     46  CD2 TYR A   5      -1.647   4.960  -1.996  1.00 84.73           C\\nATOM     47  CE1 TYR A   5       0.095   2.938  -2.677  1.00 83.99           C\\nATOM     48  CE2 TYR A   5      -1.979   4.076  -3.001  1.00 82.91           C\\nATOM     49  CZ  TYR A   5      -1.110   3.065  -3.341  1.00 83.56           C\\nATOM     50  OH  TYR A   5      -1.449   2.183  -4.338  1.00 81.11           O\\nATOM     51  N   GLY A   6      -1.424   3.366   1.979  1.00 90.46           N\\nATOM     52  CA  GLY A   6      -2.617   2.591   2.280  1.00 89.31           C\\nATOM     53  C   GLY A   6      -3.320   2.028   1.069  1.00 91.21           C\\nATOM     54  O   GLY A   6      -4.245   2.642   0.547  1.00 89.58           O\\nATOM     55  N   SER A   7      -2.898   0.852   0.633  1.00 91.21           N\\nATOM     56  CA  SER A   7      -3.519   0.167  -0.492  1.00 92.48           C\\nATOM     57  C   SER A   7      -3.089  -1.301  -0.566  1.00 93.35           C\\nATOM     58  O   SER A   7      -3.603  -2.069  -1.374  1.00 90.99           O\\nATOM     59  CB  SER A   7      -3.180   0.870  -1.805  1.00 88.87           C\\nATOM     60  OG  SER A   7      -3.974   0.374  -2.853  1.00 83.51           O\\nATOM     61  N   PHE A   8      -2.166  -1.690   0.276  1.00 89.37           N\\nATOM     62  CA  PHE A   8      -1.646  -3.049   0.326  1.00 89.62           C\\nATOM     63  C   PHE A   8      -1.700  -3.601   1.754  1.00 90.97           C\\nATOM     64  O   PHE A   8      -2.737  -3.488   2.413  1.00 88.73           O\\nATOM     65  CB  PHE A   8      -0.210  -3.075  -0.212  1.00 88.44           C\\nATOM     66  CG  PHE A   8      -0.103  -2.637  -1.649  1.00 86.94           C\\nATOM     67  CD1 PHE A   8      -0.291  -3.545  -2.680  1.00 84.73           C\\nATOM     68  CD2 PHE A   8       0.185  -1.319  -1.963  1.00 85.75           C\\nATOM     69  CE1 PHE A   8      -0.193  -3.137  -4.004  1.00 85.30           C\\nATOM     70  CE2 PHE A   8       0.278  -0.907  -3.287  1.00 83.85           C\\nATOM     71  CZ  PHE A   8       0.089  -1.818  -4.305  1.00 84.00           C\\nATOM     72  N   SER A   9      -0.633  -4.184   2.208  1.00 91.35           N\\nATOM     73  CA  SER A   9      -0.571  -4.745   3.556  1.00 91.17           C\\nATOM     74  C   SER A   9      -0.357  -3.665   4.611  1.00 90.76           C\\nATOM     75  O   SER A   9       0.720  -3.549   5.200  1.00 88.59           O\\nATOM     76  CB  SER A   9       0.537  -5.787   3.641  1.00 88.13           C\\nATOM     77  OG  SER A   9       0.358  -6.771   2.648  1.00 84.32           O\\nATOM     78  N   VAL A  10      -1.427  -2.875   4.824  1.00 90.65           N\\nATOM     79  CA  VAL A  10      -1.376  -1.803   5.819  1.00 89.49           C\\nATOM     80  C   VAL A  10      -2.780  -1.577   6.394  1.00 87.01           C\\nATOM     81  O   VAL A  10      -3.537  -0.758   5.869  1.00 84.74           O\\nATOM     82  CB  VAL A  10      -0.802  -0.508   5.219  1.00 84.26           C\\nATOM     83  CG1 VAL A  10      -1.591  -0.060   3.995  1.00 80.07           C\\nATOM     84  CG2 VAL A  10      -0.729   0.586   6.265  1.00 83.17           C\\nATOM     85  OXT VAL A  10      -3.125  -2.210   7.387  1.00 82.92           O\\nTER      86      VAL A  10\\nEND\\n\",\"pdb\");\n",
       "\tviewer_1737459444160485.setStyle({\"cartoon\": {\"color\": \"spectrum\"}});\n",
       "\tviewer_1737459444160485.zoomTo();\n",
       "viewer_1737459444160485.render();\n",
       "});\n",
       "</script>"
      ]
     },
     "metadata": {},
     "output_type": "display_data"
    }
   ],
   "source": [
    "# Import a protein or peptide target in pdb format\n",
    "# Structure of a target protein can be predicted using tools like AlphaFold3 and ChimeraX\n",
    "# >gp100_mt1\n",
    "# YLFPGPVTA\n",
    "\n",
    "pdb_path = \"data/example_gp100.pdb\"\n",
    "\n",
    "import py3Dmol\n",
    "\n",
    "# Read the PDB file\n",
    "with open(pdb_path, \"r\") as f:\n",
    "    pdb_data = f.read()\n",
    "\n",
    "# Create a 3Dmol.js viewer\n",
    "view = py3Dmol.view(width=600, height=400)\n",
    "view.addModel(pdb_data, \"pdb\") \n",
    "view.setStyle({\"cartoon\": {\"color\": \"spectrum\"}})  \n",
    "view.zoomTo()  \n",
    "view.show()"
   ]
  },
  {
   "cell_type": "code",
   "execution_count": 28,
   "metadata": {
    "colab": {
     "base_uri": "https://localhost:8080/"
    },
    "id": "k4o6w2Y23wxO",
    "outputId": "58d89f72-5d3c-44a7-c2cb-e26c3c54d43f"
   },
   "outputs": [
    {
     "name": "stdout",
     "output_type": "stream",
     "text": [
      "{'example_gp100': (['A'], [])}\n",
      "Length of chain A is 10\n"
     ]
    }
   ],
   "source": [
    "# \n",
    "# pdb_path=\"data/example_gp100.pdb\"\n",
    "\n",
    "homomer = True \n",
    "designed_chain = \"A\" \n",
    "fixed_chain = \"\" \n",
    "\n",
    "if designed_chain == \"\":\n",
    "  designed_chain_list = []\n",
    "else:\n",
    "  designed_chain_list = re.sub(\"[^A-Za-z]+\",\",\", designed_chain).split(\",\")\n",
    "\n",
    "if fixed_chain == \"\":\n",
    "  fixed_chain_list = []\n",
    "else:\n",
    "  fixed_chain_list = re.sub(\"[^A-Za-z]+\",\",\", fixed_chain).split(\",\")\n",
    "\n",
    "chain_list = list(set(designed_chain_list + fixed_chain_list))\n",
    "\n",
    "# Design Options\n",
    "num_seqs = 5\n",
    "num_seq_per_target = num_seqs\n",
    "\n",
    "# Sampling temperature for amino acids, T=0.0 means taking argmax, T>>1.0 means sample randomly.\n",
    "sampling_temp = \"0.1\" \n",
    "\n",
    "save_score=0                      \n",
    "save_probs=0                      \n",
    "score_only=0                      \n",
    "conditional_probs_only=0          \n",
    "conditional_probs_only_backbone=0 \n",
    "\n",
    "batch_size=1                      \n",
    "max_length=20000                  \n",
    "\n",
    "out_folder='.'                    \n",
    "jsonl_path=''                     \n",
    "omit_AAs='X'                      \n",
    "\n",
    "pssm_multi=0.0                    \n",
    "pssm_threshold=0.0                \n",
    "pssm_log_odds_flag=0               \n",
    "pssm_bias_flag=0                  \n",
    "\n",
    "\n",
    "##############################################################\n",
    "\n",
    "folder_for_outputs = out_folder\n",
    "\n",
    "NUM_BATCHES = num_seq_per_target//batch_size\n",
    "BATCH_COPIES = batch_size\n",
    "temperatures = [float(item) for item in sampling_temp.split()]\n",
    "omit_AAs_list = omit_AAs\n",
    "alphabet = 'ACDEFGHIKLMNPQRSTVWYX'\n",
    "\n",
    "omit_AAs_np = np.array([AA in omit_AAs_list for AA in alphabet]).astype(np.float32)\n",
    "\n",
    "chain_id_dict = None\n",
    "fixed_positions_dict = None\n",
    "pssm_dict = None\n",
    "omit_AA_dict = None\n",
    "bias_AA_dict = None\n",
    "tied_positions_dict = None\n",
    "bias_by_res_dict = None\n",
    "bias_AAs_np = np.zeros(len(alphabet))\n",
    "\n",
    "\n",
    "###############################################################\n",
    "pdb_dict_list = parse_PDB(pdb_path, input_chain_list=chain_list)\n",
    "dataset_valid = StructureDatasetPDB(pdb_dict_list, truncate=None, max_length=max_length)\n",
    "\n",
    "chain_id_dict = {}\n",
    "chain_id_dict[pdb_dict_list[0]['name']]= (designed_chain_list, fixed_chain_list)\n",
    "\n",
    "print(chain_id_dict)\n",
    "for chain in chain_list:\n",
    "  l = len(pdb_dict_list[0][f\"seq_chain_{chain}\"])\n",
    "  print(f\"Length of chain {chain} is {l}\")\n",
    "\n",
    "if homomer:\n",
    "  tied_positions_dict = make_tied_positions_for_homomers(pdb_dict_list)\n",
    "else:\n",
    "  tied_positions_dict = None"
   ]
  },
  {
   "cell_type": "code",
   "execution_count": 29,
   "metadata": {
    "cellView": "form",
    "colab": {
     "base_uri": "https://localhost:8080/"
    },
    "id": "xMVlYh8Fv2of",
    "outputId": "7b3d1839-d872-4f48-f907-775eaf035754"
   },
   "outputs": [
    {
     "name": "stdout",
     "output_type": "stream",
     "text": [
      "Generating sequences...\n",
      ">example_gp100, score=3.5819, fixed_chains=[], designed_chains=['A'], model_name=v_48_030\n",
      "VLYRYGSFSV\n",
      ">T=0.1, sample=0, score=1.2391, seq_recovery=0.1000\n",
      "GGSAVGVGDS\n",
      ">T=0.1, sample=0, score=1.2168, seq_recovery=0.1000\n",
      "GGAALGVGDS\n",
      ">T=0.1, sample=0, score=1.2798, seq_recovery=0.2000\n",
      "GGSQVGVGSS\n",
      ">T=0.1, sample=0, score=1.2219, seq_recovery=0.1000\n",
      "GGNAVGIGDS\n",
      ">T=0.1, sample=0, score=1.1932, seq_recovery=0.1000\n",
      "GGAAVGVGDS\n"
     ]
    }
   ],
   "source": [
    "# RUN\n",
    "with torch.no_grad():\n",
    "  print('Generating sequences...')\n",
    "  for ix, protein in enumerate(dataset_valid):\n",
    "    score_list = []\n",
    "    all_probs_list = []\n",
    "    all_log_probs_list = []\n",
    "    S_sample_list = []\n",
    "    batch_clones = [copy.deepcopy(protein) for i in range(BATCH_COPIES)]\n",
    "    X, S, mask, lengths, chain_M, chain_encoding_all, chain_list_list, visible_list_list, masked_list_list, masked_chain_length_list_list, chain_M_pos, omit_AA_mask, residue_idx, dihedral_mask, tied_pos_list_of_lists_list, pssm_coef, pssm_bias, pssm_log_odds_all, bias_by_res_all, tied_beta = tied_featurize(batch_clones, device, chain_id_dict, fixed_positions_dict, omit_AA_dict, tied_positions_dict, pssm_dict, bias_by_res_dict)\n",
    "    pssm_log_odds_mask = (pssm_log_odds_all > pssm_threshold).float() #1.0 for true, 0.0 for false\n",
    "    name_ = batch_clones[0]['name']\n",
    "\n",
    "    randn_1 = torch.randn(chain_M.shape, device=X.device)\n",
    "    log_probs = model(X, S, mask, chain_M*chain_M_pos, residue_idx, chain_encoding_all, randn_1)\n",
    "    mask_for_loss = mask*chain_M*chain_M_pos\n",
    "    scores = _scores(S, log_probs, mask_for_loss)\n",
    "    native_score = scores.cpu().data.numpy()\n",
    "\n",
    "    for temp in temperatures:\n",
    "        for j in range(NUM_BATCHES):\n",
    "            randn_2 = torch.randn(chain_M.shape, device=X.device)\n",
    "            if tied_positions_dict == None:\n",
    "                sample_dict = model.sample(X, randn_2, S, chain_M, chain_encoding_all, residue_idx, mask=mask, temperature=temp, omit_AAs_np=omit_AAs_np, bias_AAs_np=bias_AAs_np, chain_M_pos=chain_M_pos, omit_AA_mask=omit_AA_mask, pssm_coef=pssm_coef, pssm_bias=pssm_bias, pssm_multi=pssm_multi, pssm_log_odds_flag=bool(pssm_log_odds_flag), pssm_log_odds_mask=pssm_log_odds_mask, pssm_bias_flag=bool(pssm_bias_flag), bias_by_res=bias_by_res_all)\n",
    "                S_sample = sample_dict[\"S\"]\n",
    "            else:\n",
    "                sample_dict = model.tied_sample(X, randn_2, S, chain_M, chain_encoding_all, residue_idx, mask=mask, temperature=temp, omit_AAs_np=omit_AAs_np, bias_AAs_np=bias_AAs_np, chain_M_pos=chain_M_pos, omit_AA_mask=omit_AA_mask, pssm_coef=pssm_coef, pssm_bias=pssm_bias, pssm_multi=pssm_multi, pssm_log_odds_flag=bool(pssm_log_odds_flag), pssm_log_odds_mask=pssm_log_odds_mask, pssm_bias_flag=bool(pssm_bias_flag), tied_pos=tied_pos_list_of_lists_list[0], tied_beta=tied_beta, bias_by_res=bias_by_res_all)\n",
    "            # Compute scores\n",
    "                S_sample = sample_dict[\"S\"]\n",
    "            log_probs = model(X, S_sample, mask, chain_M*chain_M_pos, residue_idx, chain_encoding_all, randn_2, use_input_decoding_order=True, decoding_order=sample_dict[\"decoding_order\"])\n",
    "            mask_for_loss = mask*chain_M*chain_M_pos\n",
    "            scores = _scores(S_sample, log_probs, mask_for_loss)\n",
    "            scores = scores.cpu().data.numpy()\n",
    "            all_probs_list.append(sample_dict[\"probs\"].cpu().data.numpy())\n",
    "            all_log_probs_list.append(log_probs.cpu().data.numpy())\n",
    "            S_sample_list.append(S_sample.cpu().data.numpy())\n",
    "            for b_ix in range(BATCH_COPIES):\n",
    "                masked_chain_length_list = masked_chain_length_list_list[b_ix]\n",
    "                masked_list = masked_list_list[b_ix]\n",
    "                seq_recovery_rate = torch.sum(torch.sum(torch.nn.functional.one_hot(S[b_ix], 21)*torch.nn.functional.one_hot(S_sample[b_ix], 21),axis=-1)*mask_for_loss[b_ix])/torch.sum(mask_for_loss[b_ix])\n",
    "                seq = _S_to_seq(S_sample[b_ix], chain_M[b_ix])\n",
    "                score = scores[b_ix]\n",
    "                score_list.append(score)\n",
    "                native_seq = _S_to_seq(S[b_ix], chain_M[b_ix])\n",
    "                if b_ix == 0 and j==0 and temp==temperatures[0]:\n",
    "                    start = 0\n",
    "                    end = 0\n",
    "                    list_of_AAs = []\n",
    "                    for mask_l in masked_chain_length_list:\n",
    "                        end += mask_l\n",
    "                        list_of_AAs.append(native_seq[start:end])\n",
    "                        start = end\n",
    "                    native_seq = \"\".join(list(np.array(list_of_AAs)[np.argsort(masked_list)]))\n",
    "                    l0 = 0\n",
    "                    for mc_length in list(np.array(masked_chain_length_list)[np.argsort(masked_list)])[:-1]:\n",
    "                        l0 += mc_length\n",
    "                        native_seq = native_seq[:l0] + '/' + native_seq[l0:]\n",
    "                        l0 += 1\n",
    "                    sorted_masked_chain_letters = np.argsort(masked_list_list[0])\n",
    "                    print_masked_chains = [masked_list_list[0][i] for i in sorted_masked_chain_letters]\n",
    "                    sorted_visible_chain_letters = np.argsort(visible_list_list[0])\n",
    "                    print_visible_chains = [visible_list_list[0][i] for i in sorted_visible_chain_letters]\n",
    "                    native_score_print = np.format_float_positional(np.float32(native_score.mean()), unique=False, precision=4)\n",
    "                    line = '>{}, score={}, fixed_chains={}, designed_chains={}, model_name={}\\n{}\\n'.format(name_, native_score_print, print_visible_chains, print_masked_chains, model_name, native_seq)\n",
    "                    print(line.rstrip())\n",
    "                start = 0\n",
    "                end = 0\n",
    "                list_of_AAs = []\n",
    "                for mask_l in masked_chain_length_list:\n",
    "                    end += mask_l\n",
    "                    list_of_AAs.append(seq[start:end])\n",
    "                    start = end\n",
    "\n",
    "                seq = \"\".join(list(np.array(list_of_AAs)[np.argsort(masked_list)]))\n",
    "                l0 = 0\n",
    "                for mc_length in list(np.array(masked_chain_length_list)[np.argsort(masked_list)])[:-1]:\n",
    "                    l0 += mc_length\n",
    "                    seq = seq[:l0] + '/' + seq[l0:]\n",
    "                    l0 += 1\n",
    "                score_print = np.format_float_positional(np.float32(score), unique=False, precision=4)\n",
    "                seq_rec_print = np.format_float_positional(np.float32(seq_recovery_rate.detach().cpu().numpy()), unique=False, precision=4)\n",
    "                line = '>T={}, sample={}, score={}, seq_recovery={}\\n{}\\n'.format(temp,b_ix,score_print,seq_rec_print,seq)\n",
    "                print(line.rstrip())\n",
    "\n",
    "\n",
    "all_probs_concat = np.concatenate(all_probs_list)\n",
    "all_log_probs_concat = np.concatenate(all_log_probs_list)\n",
    "S_sample_concat = np.concatenate(S_sample_list)"
   ]
  },
  {
   "cell_type": "code",
   "execution_count": 30,
   "metadata": {
    "cellView": "form",
    "colab": {
     "base_uri": "https://localhost:8080/",
     "height": 542
    },
    "id": "xbsaRChNfybM",
    "outputId": "e87c30dc-d960-4878-acae-f67a3b69fc1c"
   },
   "outputs": [
    {
     "data": {
      "text/html": [
       "<iframe\n",
       "    scrolling=\"no\"\n",
       "    width=\"100%\"\n",
       "    height=\"545px\"\n",
       "    src=\"iframe_figures/figure_30.html\"\n",
       "    frameborder=\"0\"\n",
       "    allowfullscreen\n",
       "></iframe>\n"
      ]
     },
     "metadata": {},
     "output_type": "display_data"
    }
   ],
   "source": [
    "# Amino acid probabilties\n",
    "import plotly.io as pio\n",
    "pio.renderers.default = 'iframe'\n",
    "# %matplotlib inline\n",
    "import plotly.express as px\n",
    "\n",
    "fig = px.imshow(np.exp(all_log_probs_concat).mean(0).T,\n",
    "                labels=dict(x=\"positions\", y=\"amino acids\", color=\"probability\"),\n",
    "                y=list(alphabet),\n",
    "                template=\"simple_white\"\n",
    "               )\n",
    "\n",
    "fig.update_xaxes(side=\"top\")\n",
    "\n",
    "fig.show()"
   ]
  },
  {
   "cell_type": "code",
   "execution_count": 31,
   "metadata": {
    "cellView": "form",
    "colab": {
     "base_uri": "https://localhost:8080/",
     "height": 542
    },
    "id": "4jSKLU3L17Sf",
    "outputId": "75b5c2bd-bf41-450c-b994-2d1e37e59236",
    "scrolled": true
   },
   "outputs": [
    {
     "data": {
      "text/html": [
       "<iframe\n",
       "    scrolling=\"no\"\n",
       "    width=\"100%\"\n",
       "    height=\"545px\"\n",
       "    src=\"iframe_figures/figure_31.html\"\n",
       "    frameborder=\"0\"\n",
       "    allowfullscreen\n",
       "></iframe>\n"
      ]
     },
     "metadata": {},
     "output_type": "display_data"
    }
   ],
   "source": [
    "# Sampling temperature adjusted amino acid probabilties\n",
    "import plotly.express as px\n",
    "fig = px.imshow(all_probs_concat.mean(0).T,\n",
    "                labels=dict(x=\"positions\", y=\"amino acids\", color=\"probability\"),\n",
    "                y=list(alphabet),\n",
    "                template=\"simple_white\"\n",
    "               )\n",
    "\n",
    "fig.update_xaxes(side=\"top\")\n",
    "\n",
    "fig.show()"
   ]
  },
  {
   "cell_type": "code",
   "execution_count": null,
   "metadata": {},
   "outputs": [],
   "source": []
  }
 ],
 "metadata": {
  "colab": {
   "name": "quickdemo.ipynb",
   "provenance": []
  },
  "kernelspec": {
   "display_name": "py311",
   "language": "python",
   "name": "py311"
  },
  "language_info": {
   "codemirror_mode": {
    "name": "ipython",
    "version": 3
   },
   "file_extension": ".py",
   "mimetype": "text/x-python",
   "name": "python",
   "nbconvert_exporter": "python",
   "pygments_lexer": "ipython3",
   "version": "3.11.11"
  }
 },
 "nbformat": 4,
 "nbformat_minor": 4
}
